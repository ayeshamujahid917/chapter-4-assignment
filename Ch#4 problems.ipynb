{
 "cells": [
  {
   "cell_type": "code",
   "execution_count": 1,
   "metadata": {},
   "outputs": [
    {
     "name": "stdout",
     "output_type": "stream",
     "text": [
      "tandoori\n",
      "Tandoori is my favourite\n",
      "malai boti\n",
      "Malai Boti is my favourite\n",
      "lasania\n",
      "Lasania is my favourite\n",
      "Lasania is my favourite pizza it is very tasty. I really love pizza\n"
     ]
    }
   ],
   "source": [
    "#4.1\n",
    "aysha_favrt_pizza=['tandoori','malai boti','lasania']\n",
    "for pizza in aysha_favrt_pizza:\n",
    "    print(pizza)\n",
    "    print(pizza.title()+\" is my favourite\")\n",
    "print(aysha_favrt_pizza[2].title()+ \" is my favourite pizza it is very tasty. I really love pizza\")"
   ]
  },
  {
   "cell_type": "code",
   "execution_count": 2,
   "metadata": {},
   "outputs": [
    {
     "name": "stdout",
     "output_type": "stream",
     "text": [
      "[1, 8, 27, 64, 125, 216, 343, 512, 729]\n"
     ]
    }
   ],
   "source": [
    "#4.9\n",
    "cube=[value**3 for value in range(1,10)]\n",
    "print(cube)"
   ]
  }
 ],
 "metadata": {
  "interpreter": {
   "hash": "9bf2ca0f4a7adc3ce2f237ca763c1538d3ef289a4e7face3612a01cdae9f6807"
  },
  "kernelspec": {
   "display_name": "Python 3.10.4 64-bit",
   "language": "python",
   "name": "python3"
  },
  "language_info": {
   "codemirror_mode": {
    "name": "ipython",
    "version": 3
   },
   "file_extension": ".py",
   "mimetype": "text/x-python",
   "name": "python",
   "nbconvert_exporter": "python",
   "pygments_lexer": "ipython3",
   "version": "3.10.4"
  },
  "orig_nbformat": 4
 },
 "nbformat": 4,
 "nbformat_minor": 2
}
